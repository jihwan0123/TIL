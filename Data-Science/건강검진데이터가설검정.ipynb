{
 "cells": [
  {
   "cell_type": "markdown",
   "id": "8d2f83d8",
   "metadata": {},
   "source": [
    "# 음주 여부에 따라 건강검진 수치 차이가 있을까?"
   ]
  },
  {
   "cell_type": "markdown",
   "id": "7753cadb",
   "metadata": {},
   "source": [
    "# 신장과 허리둘레의 크기는 체중과 상관관계가 있을까?\n",
    "- 분석을 통해 가설을 검정"
   ]
  },
  {
   "cell_type": "markdown",
   "id": "00fb9d20",
   "metadata": {},
   "source": [
    "# 라이브러리 로드"
   ]
  },
  {
   "cell_type": "code",
   "execution_count": 1,
   "id": "99ada78a",
   "metadata": {},
   "outputs": [],
   "source": [
    "# 분석에 사용할 pandas, 수치계산에 사용할 numpy, 시각화에 사용할 seaborn\n",
    "# 주피터 노트북 구버전에서는 %matplotlib inline 설정을 해야 노트북 안에서 그래프 시각화 가능\n",
    "\n",
    "import pandas as pd\n",
    "import numpy as np\n",
    "import seaborn as sns\n",
    "import matplotlib.pyplot as plt\n",
    "\n",
    "%matplotlib inline"
   ]
  },
  {
   "cell_type": "code",
   "execution_count": 2,
   "id": "b6f870f6",
   "metadata": {},
   "outputs": [],
   "source": [
    "plt.rc(\"font\", family=\"Malgun Gothic\")\n",
    "# 마이너스 폰트 깨지는 문제 대처\n",
    "plt.rc(\"axes\", unicode_minus=False)\n",
    "# 글씨 선명하게 보기\n",
    "%config InlineBackend.figure_format = 'retina'"
   ]
  },
  {
   "cell_type": "markdown",
   "id": "f15e74a7",
   "metadata": {},
   "source": [
    "# 데이터 불러오기\n",
    "- 건강검진정보\n",
    "- 공공데이터(https://www.data.go.kr/data/15007122/fileData.do)"
   ]
  },
  {
   "cell_type": "code",
   "execution_count": 3,
   "id": "5b9e9584",
   "metadata": {
    "scrolled": false
   },
   "outputs": [
    {
     "data": {
      "text/plain": [
       "(1000000, 34)"
      ]
     },
     "execution_count": 3,
     "metadata": {},
     "output_type": "execute_result"
    }
   ],
   "source": [
    "# 파일 읽어온 후 shape로 행과 열 출력\n",
    "df = pd.read_csv(\"data/국민건강보험공단_건강검진정보_20191231.csv\", encoding='cp949')\n",
    "df.shape"
   ]
  },
  {
   "cell_type": "markdown",
   "id": "cba2acf7",
   "metadata": {},
   "source": [
    "## 데이터 미리보기"
   ]
  },
  {
   "cell_type": "code",
   "execution_count": 4,
   "id": "a029bea1",
   "metadata": {
    "scrolled": false
   },
   "outputs": [
    {
     "data": {
      "text/html": [
       "<div>\n",
       "<style scoped>\n",
       "    .dataframe tbody tr th:only-of-type {\n",
       "        vertical-align: middle;\n",
       "    }\n",
       "\n",
       "    .dataframe tbody tr th {\n",
       "        vertical-align: top;\n",
       "    }\n",
       "\n",
       "    .dataframe thead th {\n",
       "        text-align: right;\n",
       "    }\n",
       "</style>\n",
       "<table border=\"1\" class=\"dataframe\">\n",
       "  <thead>\n",
       "    <tr style=\"text-align: right;\">\n",
       "      <th></th>\n",
       "      <th>기준년도</th>\n",
       "      <th>가입자 일련번호</th>\n",
       "      <th>시도코드</th>\n",
       "      <th>성별코드</th>\n",
       "      <th>연령대 코드(5세단위)</th>\n",
       "      <th>신장(5Cm단위)</th>\n",
       "      <th>체중(5Kg 단위)</th>\n",
       "      <th>허리둘레</th>\n",
       "      <th>시력(좌)</th>\n",
       "      <th>시력(우)</th>\n",
       "      <th>...</th>\n",
       "      <th>감마 지티피</th>\n",
       "      <th>흡연상태</th>\n",
       "      <th>음주여부</th>\n",
       "      <th>구강검진 수검여부</th>\n",
       "      <th>치아우식증유무</th>\n",
       "      <th>결손치 유무</th>\n",
       "      <th>치아마모증유무</th>\n",
       "      <th>제3대구치(사랑니) 이상</th>\n",
       "      <th>치석</th>\n",
       "      <th>데이터 공개일자</th>\n",
       "    </tr>\n",
       "  </thead>\n",
       "  <tbody>\n",
       "    <tr>\n",
       "      <th>0</th>\n",
       "      <td>2019</td>\n",
       "      <td>1</td>\n",
       "      <td>11</td>\n",
       "      <td>1</td>\n",
       "      <td>13</td>\n",
       "      <td>165</td>\n",
       "      <td>65</td>\n",
       "      <td>90.0</td>\n",
       "      <td>1.5</td>\n",
       "      <td>1.2</td>\n",
       "      <td>...</td>\n",
       "      <td>47.0</td>\n",
       "      <td>2.0</td>\n",
       "      <td>NaN</td>\n",
       "      <td>1</td>\n",
       "      <td>0.0</td>\n",
       "      <td>미시행</td>\n",
       "      <td>미시행</td>\n",
       "      <td>미시행</td>\n",
       "      <td>1.0</td>\n",
       "      <td>20191231</td>\n",
       "    </tr>\n",
       "    <tr>\n",
       "      <th>1</th>\n",
       "      <td>2019</td>\n",
       "      <td>2</td>\n",
       "      <td>48</td>\n",
       "      <td>2</td>\n",
       "      <td>5</td>\n",
       "      <td>155</td>\n",
       "      <td>45</td>\n",
       "      <td>64.0</td>\n",
       "      <td>1.2</td>\n",
       "      <td>0.5</td>\n",
       "      <td>...</td>\n",
       "      <td>13.0</td>\n",
       "      <td>1.0</td>\n",
       "      <td>1.0</td>\n",
       "      <td>0</td>\n",
       "      <td>NaN</td>\n",
       "      <td>미시행</td>\n",
       "      <td>미시행</td>\n",
       "      <td>미시행</td>\n",
       "      <td>NaN</td>\n",
       "      <td>20191231</td>\n",
       "    </tr>\n",
       "    <tr>\n",
       "      <th>2</th>\n",
       "      <td>2019</td>\n",
       "      <td>3</td>\n",
       "      <td>41</td>\n",
       "      <td>1</td>\n",
       "      <td>13</td>\n",
       "      <td>160</td>\n",
       "      <td>70</td>\n",
       "      <td>87.0</td>\n",
       "      <td>0.9</td>\n",
       "      <td>0.8</td>\n",
       "      <td>...</td>\n",
       "      <td>17.0</td>\n",
       "      <td>1.0</td>\n",
       "      <td>1.0</td>\n",
       "      <td>0</td>\n",
       "      <td>NaN</td>\n",
       "      <td>미시행</td>\n",
       "      <td>미시행</td>\n",
       "      <td>미시행</td>\n",
       "      <td>NaN</td>\n",
       "      <td>20191231</td>\n",
       "    </tr>\n",
       "    <tr>\n",
       "      <th>3</th>\n",
       "      <td>2019</td>\n",
       "      <td>4</td>\n",
       "      <td>28</td>\n",
       "      <td>1</td>\n",
       "      <td>12</td>\n",
       "      <td>170</td>\n",
       "      <td>60</td>\n",
       "      <td>85.0</td>\n",
       "      <td>0.4</td>\n",
       "      <td>1.2</td>\n",
       "      <td>...</td>\n",
       "      <td>32.0</td>\n",
       "      <td>2.0</td>\n",
       "      <td>1.0</td>\n",
       "      <td>0</td>\n",
       "      <td>NaN</td>\n",
       "      <td>미시행</td>\n",
       "      <td>미시행</td>\n",
       "      <td>미시행</td>\n",
       "      <td>NaN</td>\n",
       "      <td>20191231</td>\n",
       "    </tr>\n",
       "    <tr>\n",
       "      <th>4</th>\n",
       "      <td>2019</td>\n",
       "      <td>5</td>\n",
       "      <td>41</td>\n",
       "      <td>1</td>\n",
       "      <td>10</td>\n",
       "      <td>170</td>\n",
       "      <td>70</td>\n",
       "      <td>81.2</td>\n",
       "      <td>0.7</td>\n",
       "      <td>0.7</td>\n",
       "      <td>...</td>\n",
       "      <td>19.0</td>\n",
       "      <td>2.0</td>\n",
       "      <td>NaN</td>\n",
       "      <td>0</td>\n",
       "      <td>NaN</td>\n",
       "      <td>미시행</td>\n",
       "      <td>미시행</td>\n",
       "      <td>미시행</td>\n",
       "      <td>NaN</td>\n",
       "      <td>20191231</td>\n",
       "    </tr>\n",
       "  </tbody>\n",
       "</table>\n",
       "<p>5 rows × 34 columns</p>\n",
       "</div>"
      ],
      "text/plain": [
       "   기준년도  가입자 일련번호  시도코드  성별코드  연령대 코드(5세단위)  신장(5Cm단위)  체중(5Kg 단위)  허리둘레  \\\n",
       "0  2019         1    11     1            13        165          65  90.0   \n",
       "1  2019         2    48     2             5        155          45  64.0   \n",
       "2  2019         3    41     1            13        160          70  87.0   \n",
       "3  2019         4    28     1            12        170          60  85.0   \n",
       "4  2019         5    41     1            10        170          70  81.2   \n",
       "\n",
       "   시력(좌)  시력(우)  ...  감마 지티피  흡연상태  음주여부  구강검진 수검여부  치아우식증유무  결손치 유무  치아마모증유무  \\\n",
       "0    1.5    1.2  ...    47.0   2.0   NaN          1      0.0     미시행      미시행   \n",
       "1    1.2    0.5  ...    13.0   1.0   1.0          0      NaN     미시행      미시행   \n",
       "2    0.9    0.8  ...    17.0   1.0   1.0          0      NaN     미시행      미시행   \n",
       "3    0.4    1.2  ...    32.0   2.0   1.0          0      NaN     미시행      미시행   \n",
       "4    0.7    0.7  ...    19.0   2.0   NaN          0      NaN     미시행      미시행   \n",
       "\n",
       "   제3대구치(사랑니) 이상   치석  데이터 공개일자  \n",
       "0            미시행  1.0  20191231  \n",
       "1            미시행  NaN  20191231  \n",
       "2            미시행  NaN  20191231  \n",
       "3            미시행  NaN  20191231  \n",
       "4            미시행  NaN  20191231  \n",
       "\n",
       "[5 rows x 34 columns]"
      ]
     },
     "execution_count": 4,
     "metadata": {},
     "output_type": "execute_result"
    }
   ],
   "source": [
    "# sample, head, tail\n",
    "df.head()"
   ]
  },
  {
   "cell_type": "code",
   "execution_count": 5,
   "id": "983b6d5d",
   "metadata": {},
   "outputs": [
    {
     "data": {
      "text/html": [
       "<div>\n",
       "<style scoped>\n",
       "    .dataframe tbody tr th:only-of-type {\n",
       "        vertical-align: middle;\n",
       "    }\n",
       "\n",
       "    .dataframe tbody tr th {\n",
       "        vertical-align: top;\n",
       "    }\n",
       "\n",
       "    .dataframe thead th {\n",
       "        text-align: right;\n",
       "    }\n",
       "</style>\n",
       "<table border=\"1\" class=\"dataframe\">\n",
       "  <thead>\n",
       "    <tr style=\"text-align: right;\">\n",
       "      <th></th>\n",
       "      <th>기준년도</th>\n",
       "      <th>가입자 일련번호</th>\n",
       "      <th>시도코드</th>\n",
       "      <th>성별코드</th>\n",
       "      <th>연령대 코드(5세단위)</th>\n",
       "      <th>신장(5Cm단위)</th>\n",
       "      <th>체중(5Kg 단위)</th>\n",
       "      <th>허리둘레</th>\n",
       "      <th>시력(좌)</th>\n",
       "      <th>시력(우)</th>\n",
       "      <th>...</th>\n",
       "      <th>감마 지티피</th>\n",
       "      <th>흡연상태</th>\n",
       "      <th>음주여부</th>\n",
       "      <th>구강검진 수검여부</th>\n",
       "      <th>치아우식증유무</th>\n",
       "      <th>결손치 유무</th>\n",
       "      <th>치아마모증유무</th>\n",
       "      <th>제3대구치(사랑니) 이상</th>\n",
       "      <th>치석</th>\n",
       "      <th>데이터 공개일자</th>\n",
       "    </tr>\n",
       "  </thead>\n",
       "  <tbody>\n",
       "    <tr>\n",
       "      <th>582643</th>\n",
       "      <td>2019</td>\n",
       "      <td>582644</td>\n",
       "      <td>29</td>\n",
       "      <td>1</td>\n",
       "      <td>11</td>\n",
       "      <td>180</td>\n",
       "      <td>95</td>\n",
       "      <td>92.0</td>\n",
       "      <td>0.7</td>\n",
       "      <td>0.6</td>\n",
       "      <td>...</td>\n",
       "      <td>60.0</td>\n",
       "      <td>2.0</td>\n",
       "      <td>1.0</td>\n",
       "      <td>0</td>\n",
       "      <td>NaN</td>\n",
       "      <td>미시행</td>\n",
       "      <td>미시행</td>\n",
       "      <td>미시행</td>\n",
       "      <td>NaN</td>\n",
       "      <td>20191231</td>\n",
       "    </tr>\n",
       "  </tbody>\n",
       "</table>\n",
       "<p>1 rows × 34 columns</p>\n",
       "</div>"
      ],
      "text/plain": [
       "        기준년도  가입자 일련번호  시도코드  성별코드  연령대 코드(5세단위)  신장(5Cm단위)  체중(5Kg 단위)  허리둘레  \\\n",
       "582643  2019    582644    29     1            11        180          95  92.0   \n",
       "\n",
       "        시력(좌)  시력(우)  ...  감마 지티피  흡연상태  음주여부  구강검진 수검여부  치아우식증유무  결손치 유무  \\\n",
       "582643    0.7    0.6  ...    60.0   2.0   1.0          0      NaN     미시행   \n",
       "\n",
       "        치아마모증유무  제3대구치(사랑니) 이상  치석  데이터 공개일자  \n",
       "582643      미시행            미시행 NaN  20191231  \n",
       "\n",
       "[1 rows x 34 columns]"
      ]
     },
     "execution_count": 5,
     "metadata": {},
     "output_type": "execute_result"
    }
   ],
   "source": [
    "# 아무거나 1개 가져온다.\n",
    "df.sample()"
   ]
  },
  {
   "cell_type": "code",
   "execution_count": 6,
   "id": "77871c34",
   "metadata": {
    "scrolled": true
   },
   "outputs": [
    {
     "data": {
      "text/html": [
       "<div>\n",
       "<style scoped>\n",
       "    .dataframe tbody tr th:only-of-type {\n",
       "        vertical-align: middle;\n",
       "    }\n",
       "\n",
       "    .dataframe tbody tr th {\n",
       "        vertical-align: top;\n",
       "    }\n",
       "\n",
       "    .dataframe thead th {\n",
       "        text-align: right;\n",
       "    }\n",
       "</style>\n",
       "<table border=\"1\" class=\"dataframe\">\n",
       "  <thead>\n",
       "    <tr style=\"text-align: right;\">\n",
       "      <th></th>\n",
       "      <th>기준년도</th>\n",
       "      <th>가입자 일련번호</th>\n",
       "      <th>시도코드</th>\n",
       "      <th>성별코드</th>\n",
       "      <th>연령대 코드(5세단위)</th>\n",
       "      <th>신장(5Cm단위)</th>\n",
       "      <th>체중(5Kg 단위)</th>\n",
       "      <th>허리둘레</th>\n",
       "      <th>시력(좌)</th>\n",
       "      <th>시력(우)</th>\n",
       "      <th>...</th>\n",
       "      <th>감마 지티피</th>\n",
       "      <th>흡연상태</th>\n",
       "      <th>음주여부</th>\n",
       "      <th>구강검진 수검여부</th>\n",
       "      <th>치아우식증유무</th>\n",
       "      <th>결손치 유무</th>\n",
       "      <th>치아마모증유무</th>\n",
       "      <th>제3대구치(사랑니) 이상</th>\n",
       "      <th>치석</th>\n",
       "      <th>데이터 공개일자</th>\n",
       "    </tr>\n",
       "  </thead>\n",
       "  <tbody>\n",
       "    <tr>\n",
       "      <th>999995</th>\n",
       "      <td>2019</td>\n",
       "      <td>999996</td>\n",
       "      <td>41</td>\n",
       "      <td>1</td>\n",
       "      <td>12</td>\n",
       "      <td>170</td>\n",
       "      <td>65</td>\n",
       "      <td>80.0</td>\n",
       "      <td>1.0</td>\n",
       "      <td>1.2</td>\n",
       "      <td>...</td>\n",
       "      <td>21.0</td>\n",
       "      <td>1.0</td>\n",
       "      <td>1.0</td>\n",
       "      <td>0</td>\n",
       "      <td>NaN</td>\n",
       "      <td>미시행</td>\n",
       "      <td>미시행</td>\n",
       "      <td>미시행</td>\n",
       "      <td>NaN</td>\n",
       "      <td>20191231</td>\n",
       "    </tr>\n",
       "    <tr>\n",
       "      <th>999996</th>\n",
       "      <td>2019</td>\n",
       "      <td>999997</td>\n",
       "      <td>11</td>\n",
       "      <td>1</td>\n",
       "      <td>9</td>\n",
       "      <td>170</td>\n",
       "      <td>55</td>\n",
       "      <td>75.0</td>\n",
       "      <td>0.9</td>\n",
       "      <td>0.8</td>\n",
       "      <td>...</td>\n",
       "      <td>27.0</td>\n",
       "      <td>2.0</td>\n",
       "      <td>1.0</td>\n",
       "      <td>0</td>\n",
       "      <td>NaN</td>\n",
       "      <td>미시행</td>\n",
       "      <td>미시행</td>\n",
       "      <td>미시행</td>\n",
       "      <td>NaN</td>\n",
       "      <td>20191231</td>\n",
       "    </tr>\n",
       "    <tr>\n",
       "      <th>999997</th>\n",
       "      <td>2019</td>\n",
       "      <td>999998</td>\n",
       "      <td>45</td>\n",
       "      <td>1</td>\n",
       "      <td>13</td>\n",
       "      <td>160</td>\n",
       "      <td>65</td>\n",
       "      <td>92.3</td>\n",
       "      <td>1.0</td>\n",
       "      <td>0.9</td>\n",
       "      <td>...</td>\n",
       "      <td>84.0</td>\n",
       "      <td>2.0</td>\n",
       "      <td>1.0</td>\n",
       "      <td>1</td>\n",
       "      <td>0.0</td>\n",
       "      <td>미시행</td>\n",
       "      <td>미시행</td>\n",
       "      <td>미시행</td>\n",
       "      <td>0.0</td>\n",
       "      <td>20191231</td>\n",
       "    </tr>\n",
       "    <tr>\n",
       "      <th>999998</th>\n",
       "      <td>2019</td>\n",
       "      <td>999999</td>\n",
       "      <td>30</td>\n",
       "      <td>1</td>\n",
       "      <td>8</td>\n",
       "      <td>170</td>\n",
       "      <td>75</td>\n",
       "      <td>85.0</td>\n",
       "      <td>0.8</td>\n",
       "      <td>0.8</td>\n",
       "      <td>...</td>\n",
       "      <td>29.0</td>\n",
       "      <td>2.0</td>\n",
       "      <td>1.0</td>\n",
       "      <td>1</td>\n",
       "      <td>0.0</td>\n",
       "      <td>미시행</td>\n",
       "      <td>미시행</td>\n",
       "      <td>미시행</td>\n",
       "      <td>0.0</td>\n",
       "      <td>20191231</td>\n",
       "    </tr>\n",
       "    <tr>\n",
       "      <th>999999</th>\n",
       "      <td>2019</td>\n",
       "      <td>1000000</td>\n",
       "      <td>11</td>\n",
       "      <td>2</td>\n",
       "      <td>10</td>\n",
       "      <td>155</td>\n",
       "      <td>65</td>\n",
       "      <td>86.0</td>\n",
       "      <td>0.5</td>\n",
       "      <td>0.5</td>\n",
       "      <td>...</td>\n",
       "      <td>9.0</td>\n",
       "      <td>1.0</td>\n",
       "      <td>NaN</td>\n",
       "      <td>1</td>\n",
       "      <td>0.0</td>\n",
       "      <td>미시행</td>\n",
       "      <td>미시행</td>\n",
       "      <td>미시행</td>\n",
       "      <td>1.0</td>\n",
       "      <td>20191231</td>\n",
       "    </tr>\n",
       "  </tbody>\n",
       "</table>\n",
       "<p>5 rows × 34 columns</p>\n",
       "</div>"
      ],
      "text/plain": [
       "        기준년도  가입자 일련번호  시도코드  성별코드  연령대 코드(5세단위)  신장(5Cm단위)  체중(5Kg 단위)  허리둘레  \\\n",
       "999995  2019    999996    41     1            12        170          65  80.0   \n",
       "999996  2019    999997    11     1             9        170          55  75.0   \n",
       "999997  2019    999998    45     1            13        160          65  92.3   \n",
       "999998  2019    999999    30     1             8        170          75  85.0   \n",
       "999999  2019   1000000    11     2            10        155          65  86.0   \n",
       "\n",
       "        시력(좌)  시력(우)  ...  감마 지티피  흡연상태  음주여부  구강검진 수검여부  치아우식증유무  결손치 유무  \\\n",
       "999995    1.0    1.2  ...    21.0   1.0   1.0          0      NaN     미시행   \n",
       "999996    0.9    0.8  ...    27.0   2.0   1.0          0      NaN     미시행   \n",
       "999997    1.0    0.9  ...    84.0   2.0   1.0          1      0.0     미시행   \n",
       "999998    0.8    0.8  ...    29.0   2.0   1.0          1      0.0     미시행   \n",
       "999999    0.5    0.5  ...     9.0   1.0   NaN          1      0.0     미시행   \n",
       "\n",
       "        치아마모증유무  제3대구치(사랑니) 이상   치석  데이터 공개일자  \n",
       "999995      미시행            미시행  NaN  20191231  \n",
       "999996      미시행            미시행  NaN  20191231  \n",
       "999997      미시행            미시행  0.0  20191231  \n",
       "999998      미시행            미시행  0.0  20191231  \n",
       "999999      미시행            미시행  1.0  20191231  \n",
       "\n",
       "[5 rows x 34 columns]"
      ]
     },
     "execution_count": 6,
     "metadata": {},
     "output_type": "execute_result"
    }
   ],
   "source": [
    "df.tail()"
   ]
  },
  {
   "cell_type": "markdown",
   "id": "f4fab22f",
   "metadata": {},
   "source": [
    "# 기본 정보 보기"
   ]
  },
  {
   "cell_type": "code",
   "execution_count": 7,
   "id": "57f00318",
   "metadata": {
    "scrolled": true
   },
   "outputs": [
    {
     "name": "stdout",
     "output_type": "stream",
     "text": [
      "<class 'pandas.core.frame.DataFrame'>\n",
      "RangeIndex: 1000000 entries, 0 to 999999\n",
      "Data columns (total 34 columns):\n",
      " #   Column         Non-Null Count    Dtype  \n",
      "---  ------         --------------    -----  \n",
      " 0   기준년도           1000000 non-null  int64  \n",
      " 1   가입자 일련번호       1000000 non-null  int64  \n",
      " 2   시도코드           1000000 non-null  int64  \n",
      " 3   성별코드           1000000 non-null  int64  \n",
      " 4   연령대 코드(5세단위)   1000000 non-null  int64  \n",
      " 5   신장(5Cm단위)      1000000 non-null  int64  \n",
      " 6   체중(5Kg 단위)     1000000 non-null  int64  \n",
      " 7   허리둘레           999597 non-null   float64\n",
      " 8   시력(좌)          999805 non-null   float64\n",
      " 9   시력(우)          999812 non-null   float64\n",
      " 10  청력(좌)          999819 non-null   float64\n",
      " 11  청력(우)          999822 non-null   float64\n",
      " 12  수축기 혈압         994576 non-null   float64\n",
      " 13  이완기 혈압         994575 non-null   float64\n",
      " 14  식전혈당(공복혈당)     994477 non-null   float64\n",
      " 15  총 콜레스테롤        333549 non-null   float64\n",
      " 16  트리글리세라이드       333544 non-null   float64\n",
      " 17  HDL 콜레스테롤      333541 non-null   float64\n",
      " 18  LDL 콜레스테롤      327148 non-null   float64\n",
      " 19  혈색소            994468 non-null   float64\n",
      " 20  요단백            989694 non-null   float64\n",
      " 21  혈청크레아티닌        994474 non-null   float64\n",
      " 22  (혈청지오티)AST     994478 non-null   float64\n",
      " 23  (혈청지오티)ALT     994477 non-null   float64\n",
      " 24  감마 지티피         994470 non-null   float64\n",
      " 25  흡연상태           999834 non-null   float64\n",
      " 26  음주여부           644918 non-null   float64\n",
      " 27  구강검진 수검여부      1000000 non-null  int64  \n",
      " 28  치아우식증유무        397680 non-null   float64\n",
      " 29  결손치 유무         1000000 non-null  object \n",
      " 30  치아마모증유무        1000000 non-null  object \n",
      " 31  제3대구치(사랑니) 이상  1000000 non-null  object \n",
      " 32  치석             397680 non-null   float64\n",
      " 33  데이터 공개일자       1000000 non-null  int64  \n",
      "dtypes: float64(22), int64(9), object(3)\n",
      "memory usage: 259.4+ MB\n"
     ]
    }
   ],
   "source": [
    "# 데이터의 크기, 형식, 메모리 사용량 등\n",
    "df.info()"
   ]
  },
  {
   "cell_type": "code",
   "execution_count": 8,
   "id": "f07bfcf1",
   "metadata": {},
   "outputs": [
    {
     "data": {
      "text/plain": [
       "Index(['기준년도', '가입자 일련번호', '시도코드', '성별코드', '연령대 코드(5세단위)', '신장(5Cm단위)',\n",
       "       '체중(5Kg 단위)', '허리둘레', '시력(좌)', '시력(우)', '청력(좌)', '청력(우)', '수축기 혈압',\n",
       "       '이완기 혈압', '식전혈당(공복혈당)', '총 콜레스테롤', '트리글리세라이드', 'HDL 콜레스테롤', 'LDL 콜레스테롤',\n",
       "       '혈색소', '요단백', '혈청크레아티닌', '(혈청지오티)AST', '(혈청지오티)ALT', '감마 지티피', '흡연상태',\n",
       "       '음주여부', '구강검진 수검여부', '치아우식증유무', '결손치 유무', '치아마모증유무', '제3대구치(사랑니) 이상',\n",
       "       '치석', '데이터 공개일자'],\n",
       "      dtype='object')"
      ]
     },
     "execution_count": 8,
     "metadata": {},
     "output_type": "execute_result"
    }
   ],
   "source": [
    "# 컬럼만 출력\n",
    "df.columns"
   ]
  },
  {
   "cell_type": "code",
   "execution_count": 9,
   "id": "aa6a77c6",
   "metadata": {
    "scrolled": true
   },
   "outputs": [
    {
     "data": {
      "text/plain": [
       "기준년도               int64\n",
       "가입자 일련번호           int64\n",
       "시도코드               int64\n",
       "성별코드               int64\n",
       "연령대 코드(5세단위)       int64\n",
       "신장(5Cm단위)          int64\n",
       "체중(5Kg 단위)         int64\n",
       "허리둘레             float64\n",
       "시력(좌)            float64\n",
       "시력(우)            float64\n",
       "청력(좌)            float64\n",
       "청력(우)            float64\n",
       "수축기 혈압           float64\n",
       "이완기 혈압           float64\n",
       "식전혈당(공복혈당)       float64\n",
       "총 콜레스테롤          float64\n",
       "트리글리세라이드         float64\n",
       "HDL 콜레스테롤        float64\n",
       "LDL 콜레스테롤        float64\n",
       "혈색소              float64\n",
       "요단백              float64\n",
       "혈청크레아티닌          float64\n",
       "(혈청지오티)AST       float64\n",
       "(혈청지오티)ALT       float64\n",
       "감마 지티피           float64\n",
       "흡연상태             float64\n",
       "음주여부             float64\n",
       "구강검진 수검여부          int64\n",
       "치아우식증유무          float64\n",
       "결손치 유무            object\n",
       "치아마모증유무           object\n",
       "제3대구치(사랑니) 이상     object\n",
       "치석               float64\n",
       "데이터 공개일자           int64\n",
       "dtype: object"
      ]
     },
     "execution_count": 9,
     "metadata": {},
     "output_type": "execute_result"
    }
   ],
   "source": [
    "# dtypes를 통해 데이터 타입 출력\n",
    "df.dtypes"
   ]
  },
  {
   "cell_type": "markdown",
   "id": "4a44aeda",
   "metadata": {},
   "source": [
    "# 결측치보기"
   ]
  },
  {
   "cell_type": "code",
   "execution_count": 10,
   "id": "eee45add",
   "metadata": {
    "scrolled": true
   },
   "outputs": [
    {
     "data": {
      "text/plain": [
       "기준년도                  0\n",
       "가입자 일련번호              0\n",
       "시도코드                  0\n",
       "성별코드                  0\n",
       "연령대 코드(5세단위)          0\n",
       "신장(5Cm단위)             0\n",
       "체중(5Kg 단위)            0\n",
       "허리둘레                403\n",
       "시력(좌)               195\n",
       "시력(우)               188\n",
       "청력(좌)               181\n",
       "청력(우)               178\n",
       "수축기 혈압             5424\n",
       "이완기 혈압             5425\n",
       "식전혈당(공복혈당)         5523\n",
       "총 콜레스테롤          666451\n",
       "트리글리세라이드         666456\n",
       "HDL 콜레스테롤        666459\n",
       "LDL 콜레스테롤        672852\n",
       "혈색소                5532\n",
       "요단백               10306\n",
       "혈청크레아티닌            5526\n",
       "(혈청지오티)AST         5522\n",
       "(혈청지오티)ALT         5523\n",
       "감마 지티피             5530\n",
       "흡연상태                166\n",
       "음주여부             355082\n",
       "구강검진 수검여부             0\n",
       "치아우식증유무          602320\n",
       "결손치 유무                0\n",
       "치아마모증유무               0\n",
       "제3대구치(사랑니) 이상         0\n",
       "치석               602320\n",
       "데이터 공개일자              0\n",
       "dtype: int64"
      ]
     },
     "execution_count": 10,
     "metadata": {},
     "output_type": "execute_result"
    }
   ],
   "source": [
    "# isnull을 통해 결측치를 bool 값으로 표시하고 sum을 하면 컬람마다의 결측치 수를 세어준다.\n",
    "df.isnull().sum()"
   ]
  },
  {
   "cell_type": "code",
   "execution_count": 11,
   "id": "fe9995ef",
   "metadata": {
    "scrolled": true
   },
   "outputs": [
    {
     "data": {
      "text/plain": [
       "기준년도                  0\n",
       "가입자 일련번호              0\n",
       "시도코드                  0\n",
       "성별코드                  0\n",
       "연령대 코드(5세단위)          0\n",
       "신장(5Cm단위)             0\n",
       "체중(5Kg 단위)            0\n",
       "허리둘레                403\n",
       "시력(좌)               195\n",
       "시력(우)               188\n",
       "청력(좌)               181\n",
       "청력(우)               178\n",
       "수축기 혈압             5424\n",
       "이완기 혈압             5425\n",
       "식전혈당(공복혈당)         5523\n",
       "총 콜레스테롤          666451\n",
       "트리글리세라이드         666456\n",
       "HDL 콜레스테롤        666459\n",
       "LDL 콜레스테롤        672852\n",
       "혈색소                5532\n",
       "요단백               10306\n",
       "혈청크레아티닌            5526\n",
       "(혈청지오티)AST         5522\n",
       "(혈청지오티)ALT         5523\n",
       "감마 지티피             5530\n",
       "흡연상태                166\n",
       "음주여부             355082\n",
       "구강검진 수검여부             0\n",
       "치아우식증유무          602320\n",
       "결손치 유무                0\n",
       "치아마모증유무               0\n",
       "제3대구치(사랑니) 이상         0\n",
       "치석               602320\n",
       "데이터 공개일자              0\n",
       "dtype: int64"
      ]
     },
     "execution_count": 11,
     "metadata": {},
     "output_type": "execute_result"
    }
   ],
   "source": [
    "# isna로도 결측치 여부 확인 가능\n",
    "df.isna().sum()"
   ]
  },
  {
   "cell_type": "code",
   "execution_count": 12,
   "id": "704df4b6",
   "metadata": {},
   "outputs": [
    {
     "data": {
      "text/plain": [
       "<AxesSubplot:>"
      ]
     },
     "execution_count": 12,
     "metadata": {},
     "output_type": "execute_result"
    },
    {
     "data": {
      "image/png": "[encoded data removed]",
      "text/plain": [
       "<Figure size 720x648 with 1 Axes>"
      ]
     },
     "metadata": {
      "image/png": {
       "height": 521,
       "width": 695
      },
      "needs_background": "light"
     },
     "output_type": "display_data"
    }
   ],
   "source": [
    "# 판다스에 내장 된 plot을 통해 시각화\n",
    "df.isnull().sum().plot.barh(figsize=(10,9))"
   ]
  },
  {
   "cell_type": "markdown",
   "id": "9b7a8e59",
   "metadata": {},
   "source": [
    "# 일부 데이터 요약하기"
   ]
  },
  {
   "cell_type": "code",
   "execution_count": 13,
   "id": "e388cfa8",
   "metadata": {},
   "outputs": [
    {
     "data": {
      "text/plain": [
       "Index(['기준년도', '가입자 일련번호', '시도코드', '성별코드', '연령대 코드(5세단위)', '신장(5Cm단위)',\n",
       "       '체중(5Kg 단위)', '허리둘레', '시력(좌)', '시력(우)', '청력(좌)', '청력(우)', '수축기 혈압',\n",
       "       '이완기 혈압', '식전혈당(공복혈당)', '총 콜레스테롤', '트리글리세라이드', 'HDL 콜레스테롤', 'LDL 콜레스테롤',\n",
       "       '혈색소', '요단백', '혈청크레아티닌', '(혈청지오티)AST', '(혈청지오티)ALT', '감마 지티피', '흡연상태',\n",
       "       '음주여부', '구강검진 수검여부', '치아우식증유무', '결손치 유무', '치아마모증유무', '제3대구치(사랑니) 이상',\n",
       "       '치석', '데이터 공개일자'],\n",
       "      dtype='object')"
      ]
     },
     "execution_count": 13,
     "metadata": {},
     "output_type": "execute_result"
    }
   ],
   "source": [
    "df.columns"
   ]
  },
  {
   "cell_type": "code",
   "execution_count": 14,
   "id": "34ffb619",
   "metadata": {},
   "outputs": [
    {
     "data": {
      "text/html": [
       "<div>\n",
       "<style scoped>\n",
       "    .dataframe tbody tr th:only-of-type {\n",
       "        vertical-align: middle;\n",
       "    }\n",
       "\n",
       "    .dataframe tbody tr th {\n",
       "        vertical-align: top;\n",
       "    }\n",
       "\n",
       "    .dataframe thead th {\n",
       "        text-align: right;\n",
       "    }\n",
       "</style>\n",
       "<table border=\"1\" class=\"dataframe\">\n",
       "  <thead>\n",
       "    <tr style=\"text-align: right;\">\n",
       "      <th></th>\n",
       "      <th>(혈청지오티)ALT</th>\n",
       "    </tr>\n",
       "  </thead>\n",
       "  <tbody>\n",
       "    <tr>\n",
       "      <th>0</th>\n",
       "      <td>32.0</td>\n",
       "    </tr>\n",
       "    <tr>\n",
       "      <th>1</th>\n",
       "      <td>8.0</td>\n",
       "    </tr>\n",
       "    <tr>\n",
       "      <th>2</th>\n",
       "      <td>21.0</td>\n",
       "    </tr>\n",
       "    <tr>\n",
       "      <th>3</th>\n",
       "      <td>19.0</td>\n",
       "    </tr>\n",
       "    <tr>\n",
       "      <th>4</th>\n",
       "      <td>24.0</td>\n",
       "    </tr>\n",
       "    <tr>\n",
       "      <th>...</th>\n",
       "      <td>...</td>\n",
       "    </tr>\n",
       "    <tr>\n",
       "      <th>999995</th>\n",
       "      <td>23.0</td>\n",
       "    </tr>\n",
       "    <tr>\n",
       "      <th>999996</th>\n",
       "      <td>15.0</td>\n",
       "    </tr>\n",
       "    <tr>\n",
       "      <th>999997</th>\n",
       "      <td>28.0</td>\n",
       "    </tr>\n",
       "    <tr>\n",
       "      <th>999998</th>\n",
       "      <td>65.0</td>\n",
       "    </tr>\n",
       "    <tr>\n",
       "      <th>999999</th>\n",
       "      <td>16.0</td>\n",
       "    </tr>\n",
       "  </tbody>\n",
       "</table>\n",
       "<p>1000000 rows × 1 columns</p>\n",
       "</div>"
      ],
      "text/plain": [
       "        (혈청지오티)ALT\n",
       "0             32.0\n",
       "1              8.0\n",
       "2             21.0\n",
       "3             19.0\n",
       "4             24.0\n",
       "...            ...\n",
       "999995        23.0\n",
       "999996        15.0\n",
       "999997        28.0\n",
       "999998        65.0\n",
       "999999        16.0\n",
       "\n",
       "[1000000 rows x 1 columns]"
      ]
     },
     "execution_count": 14,
     "metadata": {},
     "output_type": "execute_result"
    }
   ],
   "source": [
    "# 대괄호 하나일 때는 series\n",
    "df[\"(혈청지오티)ALT\"]\n",
    "# 대괄호 여러개일땐 dataframe형태\n",
    "df[[\"(혈청지오티)ALT\"]]"
   ]
  },
  {
   "cell_type": "code",
   "execution_count": 15,
   "id": "9a74ac39",
   "metadata": {
    "scrolled": true
   },
   "outputs": [
    {
     "data": {
      "text/html": [
       "<div>\n",
       "<style scoped>\n",
       "    .dataframe tbody tr th:only-of-type {\n",
       "        vertical-align: middle;\n",
       "    }\n",
       "\n",
       "    .dataframe tbody tr th {\n",
       "        vertical-align: top;\n",
       "    }\n",
       "\n",
       "    .dataframe thead th {\n",
       "        text-align: right;\n",
       "    }\n",
       "</style>\n",
       "<table border=\"1\" class=\"dataframe\">\n",
       "  <thead>\n",
       "    <tr style=\"text-align: right;\">\n",
       "      <th></th>\n",
       "      <th>(혈청지오티)ALT</th>\n",
       "      <th>(혈청지오티)AST</th>\n",
       "    </tr>\n",
       "  </thead>\n",
       "  <tbody>\n",
       "    <tr>\n",
       "      <th>0</th>\n",
       "      <td>32.0</td>\n",
       "      <td>18.0</td>\n",
       "    </tr>\n",
       "    <tr>\n",
       "      <th>1</th>\n",
       "      <td>8.0</td>\n",
       "      <td>15.0</td>\n",
       "    </tr>\n",
       "    <tr>\n",
       "      <th>2</th>\n",
       "      <td>21.0</td>\n",
       "      <td>30.0</td>\n",
       "    </tr>\n",
       "    <tr>\n",
       "      <th>3</th>\n",
       "      <td>19.0</td>\n",
       "      <td>17.0</td>\n",
       "    </tr>\n",
       "    <tr>\n",
       "      <th>4</th>\n",
       "      <td>24.0</td>\n",
       "      <td>19.0</td>\n",
       "    </tr>\n",
       "  </tbody>\n",
       "</table>\n",
       "</div>"
      ],
      "text/plain": [
       "   (혈청지오티)ALT  (혈청지오티)AST\n",
       "0        32.0        18.0\n",
       "1         8.0        15.0\n",
       "2        21.0        30.0\n",
       "3        19.0        17.0\n",
       "4        24.0        19.0"
      ]
     },
     "execution_count": 15,
     "metadata": {},
     "output_type": "execute_result"
    }
   ],
   "source": [
    "# 여러 컬럼 가져와서 미릭보기\n",
    "df[[\"(혈청지오티)ALT\", \"(혈청지오티)AST\"]].head()"
   ]
  },
  {
   "cell_type": "code",
   "execution_count": 16,
   "id": "29b629a2",
   "metadata": {},
   "outputs": [
    {
     "name": "stdout",
     "output_type": "stream",
     "text": [
      "<class 'pandas.core.frame.DataFrame'>\n",
      "RangeIndex: 1000000 entries, 0 to 999999\n",
      "Data columns (total 2 columns):\n",
      " #   Column      Non-Null Count   Dtype  \n",
      "---  ------      --------------   -----  \n",
      " 0   (혈청지오티)ALT  994477 non-null  float64\n",
      " 1   (혈청지오티)AST  994478 non-null  float64\n",
      "dtypes: float64(2)\n",
      "memory usage: 15.3 MB\n"
     ]
    }
   ],
   "source": [
    "# 요약\n",
    "df[[\"(혈청지오티)ALT\", \"(혈청지오티)AST\"]].info()"
   ]
  },
  {
   "cell_type": "code",
   "execution_count": 17,
   "id": "a7a4575c",
   "metadata": {
    "scrolled": true
   },
   "outputs": [
    {
     "data": {
      "text/html": [
       "<div>\n",
       "<style scoped>\n",
       "    .dataframe tbody tr th:only-of-type {\n",
       "        vertical-align: middle;\n",
       "    }\n",
       "\n",
       "    .dataframe tbody tr th {\n",
       "        vertical-align: top;\n",
       "    }\n",
       "\n",
       "    .dataframe thead th {\n",
       "        text-align: right;\n",
       "    }\n",
       "</style>\n",
       "<table border=\"1\" class=\"dataframe\">\n",
       "  <thead>\n",
       "    <tr style=\"text-align: right;\">\n",
       "      <th></th>\n",
       "      <th>(혈청지오티)ALT</th>\n",
       "      <th>(혈청지오티)AST</th>\n",
       "    </tr>\n",
       "  </thead>\n",
       "  <tbody>\n",
       "    <tr>\n",
       "      <th>count</th>\n",
       "      <td>994477.000000</td>\n",
       "      <td>994478.000000</td>\n",
       "    </tr>\n",
       "    <tr>\n",
       "      <th>mean</th>\n",
       "      <td>25.996708</td>\n",
       "      <td>26.231107</td>\n",
       "    </tr>\n",
       "    <tr>\n",
       "      <th>std</th>\n",
       "      <td>27.710895</td>\n",
       "      <td>24.046478</td>\n",
       "    </tr>\n",
       "    <tr>\n",
       "      <th>min</th>\n",
       "      <td>1.000000</td>\n",
       "      <td>1.000000</td>\n",
       "    </tr>\n",
       "    <tr>\n",
       "      <th>25%</th>\n",
       "      <td>15.000000</td>\n",
       "      <td>19.000000</td>\n",
       "    </tr>\n",
       "    <tr>\n",
       "      <th>50%</th>\n",
       "      <td>20.000000</td>\n",
       "      <td>23.000000</td>\n",
       "    </tr>\n",
       "    <tr>\n",
       "      <th>75%</th>\n",
       "      <td>30.000000</td>\n",
       "      <td>29.000000</td>\n",
       "    </tr>\n",
       "    <tr>\n",
       "      <th>max</th>\n",
       "      <td>6435.000000</td>\n",
       "      <td>7362.000000</td>\n",
       "    </tr>\n",
       "  </tbody>\n",
       "</table>\n",
       "</div>"
      ],
      "text/plain": [
       "          (혈청지오티)ALT     (혈청지오티)AST\n",
       "count  994477.000000  994478.000000\n",
       "mean       25.996708      26.231107\n",
       "std        27.710895      24.046478\n",
       "min         1.000000       1.000000\n",
       "25%        15.000000      19.000000\n",
       "50%        20.000000      23.000000\n",
       "75%        30.000000      29.000000\n",
       "max      6435.000000    7362.000000"
      ]
     },
     "execution_count": 17,
     "metadata": {},
     "output_type": "execute_result"
    }
   ],
   "source": [
    "df[[\"(혈청지오티)ALT\", \"(혈청지오티)AST\"]].describe()"
   ]
  },
  {
   "cell_type": "markdown",
   "id": "5c8cf402",
   "metadata": {},
   "source": [
    "# value_counts로 값 집계하기"
   ]
  },
  {
   "cell_type": "code",
   "execution_count": 18,
   "id": "9721211e",
   "metadata": {},
   "outputs": [
    {
     "data": {
      "text/plain": [
       "1    519574\n",
       "2    480426\n",
       "Name: 성별코드, dtype: int64"
      ]
     },
     "execution_count": 18,
     "metadata": {},
     "output_type": "execute_result"
    }
   ],
   "source": [
    "df[\"성별코드\"].value_counts()\n",
    "# 남성이 더 많다"
   ]
  },
  {
   "cell_type": "code",
   "execution_count": 19,
   "id": "b09e410c",
   "metadata": {},
   "outputs": [
    {
     "data": {
      "text/plain": [
       "1.0    630226\n",
       "2.0    369608\n",
       "Name: 흡연상태, dtype: int64"
      ]
     },
     "execution_count": 19,
     "metadata": {},
     "output_type": "execute_result"
    }
   ],
   "source": [
    "df[\"흡연상태\"].value_counts()"
   ]
  },
  {
   "cell_type": "markdown",
   "id": "a8cc4b3b",
   "metadata": {},
   "source": [
    "# groupby 와 pivot_table 사용하기"
   ]
  }
 ],
 "metadata": {
  "kernelspec": {
   "display_name": "Python (myenv)",
   "language": "python",
   "name": "myenv"
  },
  "language_info": {
   "codemirror_mode": {
    "name": "ipython",
    "version": 3
   },
   "file_extension": ".py",
   "mimetype": "text/x-python",
   "name": "python",
   "nbconvert_exporter": "python",
   "pygments_lexer": "ipython3",
   "version": "3.8.8"
  },
  "toc": {
   "base_numbering": 1,
   "nav_menu": {},
   "number_sections": true,
   "sideBar": true,
   "skip_h1_title": false,
   "title_cell": "Table of Contents",
   "title_sidebar": "Contents",
   "toc_cell": false,
   "toc_position": {},
   "toc_section_display": true,
   "toc_window_display": false
  }
 },
 "nbformat": 4,
 "nbformat_minor": 5
}
