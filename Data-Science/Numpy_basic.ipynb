{
 "cells": [
  {
   "cell_type": "markdown",
   "id": "c991f0b8",
   "metadata": {},
   "source": [
    "# Numpy"
   ]
  },
  {
   "cell_type": "code",
   "execution_count": 1,
   "id": "adb9b99f",
   "metadata": {},
   "outputs": [],
   "source": [
    "import numpy as np"
   ]
  },
  {
   "cell_type": "markdown",
   "id": "ffed72d6",
   "metadata": {},
   "source": [
    "## ndarray"
   ]
  },
  {
   "cell_type": "code",
   "execution_count": 2,
   "id": "f219fa74",
   "metadata": {},
   "outputs": [
    {
     "data": {
      "text/plain": [
       "(array([0, 1, 2]), array(['1', '2', '3'], dtype='<U11'))"
      ]
     },
     "execution_count": 2,
     "metadata": {},
     "output_type": "execute_result"
    }
   ],
   "source": [
    "a = np.array([0,1,2])\n",
    "b = np.array([1,2,'3']) # 같은 종류의 데이터만 담을 수 있다.\n",
    "a, b"
   ]
  },
  {
   "cell_type": "code",
   "execution_count": 3,
   "id": "d7c5fb1a",
   "metadata": {
    "scrolled": true
   },
   "outputs": [
    {
     "data": {
      "text/plain": [
       "array([[1, 2, 3],\n",
       "       [4, 5, 6]])"
      ]
     },
     "execution_count": 3,
     "metadata": {},
     "output_type": "execute_result"
    }
   ],
   "source": [
    "d = np.array([[1,2,3],\n",
    "             [4,5,6]])\n",
    "d"
   ]
  },
  {
   "cell_type": "code",
   "execution_count": 4,
   "id": "8f1aaf82",
   "metadata": {
    "scrolled": true
   },
   "outputs": [
    {
     "data": {
      "text/plain": [
       "array([0, 1, 2, 3])"
      ]
     },
     "execution_count": 4,
     "metadata": {},
     "output_type": "execute_result"
    }
   ],
   "source": [
    "array1 = np.arange(4)\n",
    "array1"
   ]
  },
  {
   "cell_type": "code",
   "execution_count": 5,
   "id": "f2d1e79b",
   "metadata": {},
   "outputs": [
    {
     "data": {
      "text/plain": [
       "array([[ 0,  1,  2,  3,  4],\n",
       "       [ 5,  6,  7,  8,  9],\n",
       "       [10, 11, 12, 13, 14]])"
      ]
     },
     "execution_count": 5,
     "metadata": {},
     "output_type": "execute_result"
    }
   ],
   "source": [
    "a = np.arange(15).reshape(3, 5)\n",
    "a"
   ]
  },
  {
   "cell_type": "code",
   "execution_count": 6,
   "id": "b1eda5f5",
   "metadata": {},
   "outputs": [
    {
     "name": "stdout",
     "output_type": "stream",
     "text": [
      "(3, 5)\n",
      "2\n",
      "int32\n",
      "4\n",
      "15\n",
      "<class 'numpy.ndarray'>\n"
     ]
    }
   ],
   "source": [
    "print(a.shape) # n행 m열\n",
    "print(a.ndim) # 차원(축)의 개수\n",
    "print(a.dtype.name) # 데이터타입\n",
    "print(a.itemsize) # 배열의 각 요소의 바이트에서의 사이즈: float64 형식의 요소의 배열은 itemsize 8(64/8), complex32면 itemsize 4\n",
    "print(a.size) # 전체 요소들의 갯수\n",
    "print(type(a)) # array type"
   ]
  },
  {
   "cell_type": "code",
   "execution_count": 7,
   "id": "b9b1c4aa",
   "metadata": {},
   "outputs": [
    {
     "name": "stdout",
     "output_type": "stream",
     "text": [
      "[6 7 8]\n"
     ]
    },
    {
     "data": {
      "text/plain": [
       "numpy.ndarray"
      ]
     },
     "execution_count": 7,
     "metadata": {},
     "output_type": "execute_result"
    }
   ],
   "source": [
    "b = np.array([6, 7, 8])\n",
    "print(b)\n",
    "type(b)"
   ]
  },
  {
   "cell_type": "code",
   "execution_count": 8,
   "id": "c382233c",
   "metadata": {
    "scrolled": true
   },
   "outputs": [
    {
     "data": {
      "text/plain": [
       "array([[0., 0., 0., 0.],\n",
       "       [0., 0., 0., 0.],\n",
       "       [0., 0., 0., 0.],\n",
       "       [0., 0., 0., 0.]])"
      ]
     },
     "execution_count": 8,
     "metadata": {},
     "output_type": "execute_result"
    }
   ],
   "source": [
    "# 0으로 초기화 및 float 타입 지정\n",
    "array2 = np.zeros((4,4), dtype=float)\n",
    "array2"
   ]
  },
  {
   "cell_type": "code",
   "execution_count": 9,
   "id": "aaaa3e28",
   "metadata": {},
   "outputs": [
    {
     "data": {
      "text/plain": [
       "array([['1', '1', '1'],\n",
       "       ['1', '1', '1'],\n",
       "       ['1', '1', '1']], dtype='<U1')"
      ]
     },
     "execution_count": 9,
     "metadata": {},
     "output_type": "execute_result"
    }
   ],
   "source": [
    "# 1로 초기화 및 문자열 타입 지정\n",
    "array3 = np.ones((3,3), dtype=str)\n",
    "array3"
   ]
  },
  {
   "cell_type": "code",
   "execution_count": 10,
   "id": "ad677353",
   "metadata": {
    "scrolled": true
   },
   "outputs": [
    {
     "data": {
      "text/plain": [
       "array([[7, 6, 5],\n",
       "       [9, 0, 5],\n",
       "       [5, 0, 5]])"
      ]
     },
     "execution_count": 10,
     "metadata": {},
     "output_type": "execute_result"
    }
   ],
   "source": [
    "# 0부터 9까지 랜덤하게 초기화 된 배열 만들기\n",
    "array4 = np.random.randint(0, 10, (3,3))\n",
    "array4"
   ]
  },
  {
   "cell_type": "code",
   "execution_count": 11,
   "id": "ea5c4669",
   "metadata": {
    "scrolled": true
   },
   "outputs": [
    {
     "data": {
      "text/plain": [
       "array([[-0.3973659 ,  1.92439397, -0.15657369],\n",
       "       [-0.16283642, -0.99542327, -0.19977964],\n",
       "       [-0.79182701, -1.81055757, -0.70028725]])"
      ]
     },
     "execution_count": 11,
     "metadata": {},
     "output_type": "execute_result"
    }
   ],
   "source": [
    "# 평균이 0이고, 표준편차가 1인 표준 정규를 띄는 배열\n",
    "array5 = np.random.normal(0, 1, (3,3))\n",
    "array5"
   ]
  },
  {
   "cell_type": "markdown",
   "id": "47dace66",
   "metadata": {},
   "source": [
    "## 배열 합치기\n",
    "> np.concatenate"
   ]
  },
  {
   "cell_type": "code",
   "execution_count": 12,
   "id": "0040ae3e",
   "metadata": {},
   "outputs": [
    {
     "name": "stdout",
     "output_type": "stream",
     "text": [
      "(6,)\n"
     ]
    },
    {
     "data": {
      "text/plain": [
       "array([1, 2, 3, 4, 5, 6])"
      ]
     },
     "execution_count": 12,
     "metadata": {},
     "output_type": "execute_result"
    }
   ],
   "source": [
    "# concatenate\n",
    "array1 = np.array([1,2,3])\n",
    "array2 = np.array([4,5,6])\n",
    "array3 = np.concatenate([array1, array2])\n",
    "print(array3.shape)\n",
    "array3"
   ]
  },
  {
   "cell_type": "markdown",
   "id": "b1c10d47",
   "metadata": {},
   "source": [
    "## 배열 형태 바꾸기\n",
    "> np.reshape"
   ]
  },
  {
   "cell_type": "markdown",
   "id": "9ef20731",
   "metadata": {},
   "source": [
    "- numpy array의 reshape는 기존 데이터는 유지하고 차원과 형상을 바꿔준다. (-1로 설정하면 나머지를 자동으로 맞춰준다.)\n",
    "  - (100,) -> (2,50) : 변환가능\n",
    "  - (100,) -> (2, -1) : 1차원은 2로 지정하고 2차원은 자동이므로 50이 됨\n",
    "- 바꾸는 개수가 나눠지지 않는다면 \"ValueError: cannot reshape array of size\" 에러 발생\n",
    "  - (100,) -> (3, -1) : 100은 3으로 나눠지지 않기때문에 에러 발생"
   ]
  },
  {
   "cell_type": "code",
   "execution_count": 13,
   "id": "00249271",
   "metadata": {},
   "outputs": [],
   "source": [
    "# a = np.arange(100).reshape(3, -1)\n",
    "# a\n",
    "# ---------------------------------------------------------------------------\n",
    "# ValueError                                Traceback (most recent call last)\n",
    "# <ipython-input-26-f1b615b504a1> in <module>\n",
    "# ----> 1 a = np.arange(100).reshape(3, -1)\n",
    "#       2 a\n",
    "\n",
    "# ValueError: cannot reshape array of size 100 into shape (3,newaxis)"
   ]
  },
  {
   "cell_type": "code",
   "execution_count": 14,
   "id": "a1c35e52",
   "metadata": {
    "scrolled": true
   },
   "outputs": [
    {
     "data": {
      "text/plain": [
       "array([[ 0,  1,  2,  3,  4],\n",
       "       [ 5,  6,  7,  8,  9],\n",
       "       [10, 11, 12, 13, 14]])"
      ]
     },
     "execution_count": 14,
     "metadata": {},
     "output_type": "execute_result"
    }
   ],
   "source": [
    "a = np.arange(15).reshape(3, 5)\n",
    "a"
   ]
  },
  {
   "cell_type": "code",
   "execution_count": 15,
   "id": "8279e331",
   "metadata": {},
   "outputs": [
    {
     "data": {
      "text/plain": [
       "array([[1, 2],\n",
       "       [3, 4]])"
      ]
     },
     "execution_count": 15,
     "metadata": {},
     "output_type": "execute_result"
    }
   ],
   "source": [
    "array1 = np.array([1,2,3,4])\n",
    "array2 = array1.reshape((2,2))\n",
    "array2"
   ]
  },
  {
   "cell_type": "markdown",
   "id": "26542a9d",
   "metadata": {},
   "source": [
    "## 배열 세로 축으로 합치기"
   ]
  },
  {
   "cell_type": "code",
   "execution_count": 16,
   "id": "71f46eb5",
   "metadata": {},
   "outputs": [
    {
     "name": "stdout",
     "output_type": "stream",
     "text": [
      "[[0 1 2 3]]\n"
     ]
    },
    {
     "data": {
      "text/plain": [
       "array([[0, 1, 2, 3],\n",
       "       [4, 5, 6, 7]])"
      ]
     },
     "execution_count": 16,
     "metadata": {},
     "output_type": "execute_result"
    }
   ],
   "source": [
    "array1 = np.arange(4).reshape(1,4)\n",
    "array2 = np.arange(8).reshape(2,4)\n",
    "print(array1)\n",
    "array2"
   ]
  },
  {
   "cell_type": "code",
   "execution_count": 17,
   "id": "d6afadcb",
   "metadata": {},
   "outputs": [
    {
     "data": {
      "text/plain": [
       "array([[0, 1, 2, 3],\n",
       "       [0, 1, 2, 3],\n",
       "       [4, 5, 6, 7]])"
      ]
     },
     "execution_count": 17,
     "metadata": {},
     "output_type": "execute_result"
    }
   ],
   "source": [
    "array3 = np.concatenate([array1, array2], axis=0)\n",
    "array3"
   ]
  },
  {
   "cell_type": "markdown",
   "id": "db178ebf",
   "metadata": {},
   "source": [
    "## 배열 나누기"
   ]
  },
  {
   "cell_type": "code",
   "execution_count": 18,
   "id": "52f6e4b7",
   "metadata": {
    "scrolled": true
   },
   "outputs": [
    {
     "name": "stdout",
     "output_type": "stream",
     "text": [
      "[[0 1 2 3 4]\n",
      " [5 6 7 8 9]]\n",
      "(2, 2)\n",
      "[[0 1]\n",
      " [5 6]]\n",
      "(2, 3)\n",
      "[[2 3 4]\n",
      " [7 8 9]]\n"
     ]
    }
   ],
   "source": [
    "array = np.arange(10).reshape(2,5)\n",
    "left, right = np.split(array, [2], axis=1)\n",
    "print(array)\n",
    "print(left.shape)\n",
    "print(left)\n",
    "print(right.shape)\n",
    "print(right)"
   ]
  },
  {
   "cell_type": "markdown",
   "id": "a0f829c4",
   "metadata": {},
   "source": [
    "## 상수 연산"
   ]
  },
  {
   "cell_type": "code",
   "execution_count": 19,
   "id": "45d35dd9",
   "metadata": {
    "scrolled": true
   },
   "outputs": [
    {
     "data": {
      "text/plain": [
       "array([[4, 3],\n",
       "       [3, 8]])"
      ]
     },
     "execution_count": 19,
     "metadata": {},
     "output_type": "execute_result"
    }
   ],
   "source": [
    "array = np.random.randint(1, 10, size=4).reshape(2,2)\n",
    "array"
   ]
  },
  {
   "cell_type": "code",
   "execution_count": 20,
   "id": "19624c76",
   "metadata": {},
   "outputs": [
    {
     "data": {
      "text/plain": [
       "array([[40, 30],\n",
       "       [30, 80]])"
      ]
     },
     "execution_count": 20,
     "metadata": {},
     "output_type": "execute_result"
    }
   ],
   "source": [
    "result_array = array*10\n",
    "result_array"
   ]
  },
  {
   "cell_type": "markdown",
   "id": "a65ebe64",
   "metadata": {},
   "source": [
    "## 서로 다른 형태의 Numpy 연산(Broadcasting)"
   ]
  },
  {
   "cell_type": "code",
   "execution_count": 21,
   "id": "4651b127",
   "metadata": {},
   "outputs": [
    {
     "name": "stdout",
     "output_type": "stream",
     "text": [
      "[[0 1]\n",
      " [2 3]]\n",
      "[0 1]\n"
     ]
    },
    {
     "data": {
      "text/plain": [
       "array([[0, 2],\n",
       "       [2, 4]])"
      ]
     },
     "execution_count": 21,
     "metadata": {},
     "output_type": "execute_result"
    }
   ],
   "source": [
    "array1 = np.arange(4).reshape(2,2) # (2x2)\n",
    "array2 = np.arange(2) # (1x2)\n",
    "array3 = array1 + array2\n",
    "print(array1)\n",
    "print(array2)\n",
    "array3"
   ]
  },
  {
   "cell_type": "code",
   "execution_count": 22,
   "id": "895da10c",
   "metadata": {},
   "outputs": [
    {
     "data": {
      "text/plain": [
       "(array([[1],\n",
       "        [2],\n",
       "        [3]]),\n",
       " array([[4, 5, 6, 7]]))"
      ]
     },
     "execution_count": 22,
     "metadata": {},
     "output_type": "execute_result"
    }
   ],
   "source": [
    "x = np.array([1,2,3]).reshape(3,1)\n",
    "y = np.array([4,5,6,7]).reshape(1,4)\n",
    "x, y"
   ]
  },
  {
   "cell_type": "code",
   "execution_count": 23,
   "id": "90ad3864",
   "metadata": {},
   "outputs": [
    {
     "name": "stdout",
     "output_type": "stream",
     "text": [
      "(3, 4)\n"
     ]
    },
    {
     "data": {
      "text/plain": [
       "array([[ 5,  6,  7,  8],\n",
       "       [ 6,  7,  8,  9],\n",
       "       [ 7,  8,  9, 10]])"
      ]
     },
     "execution_count": 23,
     "metadata": {},
     "output_type": "execute_result"
    }
   ],
   "source": [
    "z = x + y\n",
    "print(z.shape)\n",
    "z\n",
    "# z is 3x4 dimensional."
   ]
  },
  {
   "cell_type": "code",
   "execution_count": 24,
   "id": "e48c7804",
   "metadata": {},
   "outputs": [
    {
     "data": {
      "text/plain": [
       "array([[0, 1, 2, 3],\n",
       "       [4, 5, 6, 7],\n",
       "       [0, 1, 2, 3],\n",
       "       [4, 5, 6, 7]])"
      ]
     },
     "execution_count": 24,
     "metadata": {},
     "output_type": "execute_result"
    }
   ],
   "source": [
    "array1 = np.arange(0, 8).reshape(2,4)\n",
    "array2 = np.arange(0, 8).reshape(2,4)\n",
    "array3 = np.concatenate([array1, array2], axis=0)\n",
    "array3"
   ]
  },
  {
   "cell_type": "code",
   "execution_count": 25,
   "id": "957bd3db",
   "metadata": {},
   "outputs": [
    {
     "data": {
      "text/plain": [
       "array([[0],\n",
       "       [1],\n",
       "       [2],\n",
       "       [3]])"
      ]
     },
     "execution_count": 25,
     "metadata": {},
     "output_type": "execute_result"
    }
   ],
   "source": [
    "array4 = np.arange(0,4).reshape(4,1)\n",
    "array4"
   ]
  },
  {
   "cell_type": "code",
   "execution_count": 26,
   "id": "39270f20",
   "metadata": {
    "scrolled": false
   },
   "outputs": [
    {
     "data": {
      "text/plain": [
       "array([[ 0,  1,  2,  3],\n",
       "       [ 5,  6,  7,  8],\n",
       "       [ 2,  3,  4,  5],\n",
       "       [ 7,  8,  9, 10]])"
      ]
     },
     "execution_count": 26,
     "metadata": {},
     "output_type": "execute_result"
    }
   ],
   "source": [
    "array3 + array4\n",
    "# array 3 + \n",
    "# array4\n",
    "# 0 0 0 0    \n",
    "# 1 1 1 1 \n",
    "# 2 2 2 2\n",
    "# 3 3 3 3"
   ]
  },
  {
   "cell_type": "markdown",
   "id": "3d0dd0e1",
   "metadata": {},
   "source": [
    "### 3차원"
   ]
  },
  {
   "cell_type": "code",
   "execution_count": 27,
   "id": "b4d5da81",
   "metadata": {},
   "outputs": [
    {
     "data": {
      "text/plain": [
       "(array([0, 1, 2, 3, 4, 5]),\n",
       " array([[[0],\n",
       "         [1],\n",
       "         [2]],\n",
       " \n",
       "        [[3],\n",
       "         [4],\n",
       "         [5]]]))"
      ]
     },
     "execution_count": 27,
     "metadata": {},
     "output_type": "execute_result"
    }
   ],
   "source": [
    "array1 = np.arange(6)\n",
    "array2 = array1.reshape(2,3,1)\n",
    "array1, array2"
   ]
  },
  {
   "cell_type": "code",
   "execution_count": 28,
   "id": "aa6956ac",
   "metadata": {},
   "outputs": [
    {
     "data": {
      "text/plain": [
       "((2, 3, 4),\n",
       " array([[[ 0,  1,  2,  3],\n",
       "         [ 1,  2,  3,  4],\n",
       "         [ 2,  3,  4,  5]],\n",
       " \n",
       "        [[ 7,  8,  9, 10],\n",
       "         [ 8,  9, 10, 11],\n",
       "         [ 9, 10, 11, 12]]]))"
      ]
     },
     "execution_count": 28,
     "metadata": {},
     "output_type": "execute_result"
    }
   ],
   "source": [
    "array3 = np.arange(8)\n",
    "array4 = array3.reshape(2,1,4)\n",
    "x = array2 + array4\n",
    "x.shape, x"
   ]
  },
  {
   "cell_type": "markdown",
   "id": "a29be717",
   "metadata": {},
   "source": [
    "## 마스킹연산"
   ]
  },
  {
   "cell_type": "code",
   "execution_count": 29,
   "id": "8a0ff35f",
   "metadata": {},
   "outputs": [
    {
     "data": {
      "text/plain": [
       "array([[ 0,  1,  2,  3],\n",
       "       [ 4,  5,  6,  7],\n",
       "       [ 8,  9, 10, 11],\n",
       "       [12, 13, 14, 15]])"
      ]
     },
     "execution_count": 29,
     "metadata": {},
     "output_type": "execute_result"
    }
   ],
   "source": [
    "array1 = np.arange(16).reshape(4,4)\n",
    "array1"
   ]
  },
  {
   "cell_type": "code",
   "execution_count": 30,
   "id": "ad260741",
   "metadata": {},
   "outputs": [
    {
     "data": {
      "text/plain": [
       "array([[ True,  True,  True,  True],\n",
       "       [ True,  True,  True,  True],\n",
       "       [ True,  True, False, False],\n",
       "       [False, False, False, False]])"
      ]
     },
     "execution_count": 30,
     "metadata": {},
     "output_type": "execute_result"
    }
   ],
   "source": [
    "array2 = array1 < 10\n",
    "array2"
   ]
  },
  {
   "cell_type": "code",
   "execution_count": 31,
   "id": "fabefabc",
   "metadata": {},
   "outputs": [
    {
     "data": {
      "text/plain": [
       "array([[100, 100, 100, 100],\n",
       "       [100, 100, 100, 100],\n",
       "       [100, 100,  10,  11],\n",
       "       [ 12,  13,  14,  15]])"
      ]
     },
     "execution_count": 31,
     "metadata": {},
     "output_type": "execute_result"
    }
   ],
   "source": [
    "array1[array2] = 100\n",
    "array1 # True로 체크된 원소들 모두 100으로 변경"
   ]
  },
  {
   "cell_type": "markdown",
   "id": "ac884055",
   "metadata": {},
   "source": [
    "## 집계함수"
   ]
  },
  {
   "cell_type": "code",
   "execution_count": 32,
   "id": "d044622a",
   "metadata": {},
   "outputs": [
    {
     "name": "stdout",
     "output_type": "stream",
     "text": [
      "최대값:  15\n",
      "최솟값:  0\n",
      "합계:  120\n",
      "평균값:  7.5\n"
     ]
    }
   ],
   "source": [
    "array = np.arange(16).reshape(4,4)\n",
    "print(\"최대값: \", np.max(array))\n",
    "print(\"최솟값: \", np.min(array))\n",
    "print(\"합계: \", np.sum(array))\n",
    "print(\"평균값: \", np.mean(array))"
   ]
  },
  {
   "cell_type": "code",
   "execution_count": 33,
   "id": "44c9afb4",
   "metadata": {},
   "outputs": [
    {
     "data": {
      "text/plain": [
       "array([[ 0,  1,  2,  3],\n",
       "       [ 4,  5,  6,  7],\n",
       "       [ 8,  9, 10, 11],\n",
       "       [12, 13, 14, 15]])"
      ]
     },
     "execution_count": 33,
     "metadata": {},
     "output_type": "execute_result"
    }
   ],
   "source": [
    "array"
   ]
  },
  {
   "cell_type": "code",
   "execution_count": 34,
   "id": "315130d6",
   "metadata": {
    "scrolled": true
   },
   "outputs": [
    {
     "name": "stdout",
     "output_type": "stream",
     "text": [
      "col합계:  [24 28 32 36]\n",
      "row합계:  [ 6 22 38 54]\n"
     ]
    }
   ],
   "source": [
    "print(\"col합계: \", np.sum(array, axis=0))\n",
    "print(\"row합계: \", np.sum(array, axis=1))"
   ]
  },
  {
   "cell_type": "markdown",
   "id": "6ebac2f0",
   "metadata": {},
   "source": [
    "## Numpy의 저장과 불러오기"
   ]
  },
  {
   "cell_type": "code",
   "execution_count": 35,
   "id": "c5adb8b2",
   "metadata": {},
   "outputs": [],
   "source": [
    "# 단일 객체 저장 및 불러오기 save\n",
    "array = np.arange(0, 10)\n",
    "np.save('saved.npy', array)"
   ]
  },
  {
   "cell_type": "code",
   "execution_count": 36,
   "id": "da7c0127",
   "metadata": {},
   "outputs": [
    {
     "data": {
      "text/plain": [
       "array([0, 1, 2, 3, 4, 5, 6, 7, 8, 9])"
      ]
     },
     "execution_count": 36,
     "metadata": {},
     "output_type": "execute_result"
    }
   ],
   "source": [
    "result = np.load('saved.npy')\n",
    "result"
   ]
  },
  {
   "cell_type": "code",
   "execution_count": 37,
   "id": "1852420e",
   "metadata": {},
   "outputs": [],
   "source": [
    "# 복수 객체 저장 및 불러오기 savez\n",
    "array1 = np.arange(0, 10)\n",
    "array2 = np.arange(10, 20)\n",
    "np.savez('saved.npz', array1=array1, array2=array2)"
   ]
  },
  {
   "cell_type": "code",
   "execution_count": 38,
   "id": "0cd09a0b",
   "metadata": {},
   "outputs": [
    {
     "data": {
      "text/plain": [
       "<numpy.lib.npyio.NpzFile at 0x2bdede02bb0>"
      ]
     },
     "execution_count": 38,
     "metadata": {},
     "output_type": "execute_result"
    }
   ],
   "source": [
    "data = np.load('saved.npz')\n",
    "data"
   ]
  },
  {
   "cell_type": "code",
   "execution_count": 39,
   "id": "2042db4a",
   "metadata": {},
   "outputs": [
    {
     "data": {
      "text/plain": [
       "(array([0, 1, 2, 3, 4, 5, 6, 7, 8, 9]),\n",
       " array([10, 11, 12, 13, 14, 15, 16, 17, 18, 19]))"
      ]
     },
     "execution_count": 39,
     "metadata": {},
     "output_type": "execute_result"
    }
   ],
   "source": [
    "result1 = data['array1']\n",
    "result2 = data['array2']\n",
    "result1, result2"
   ]
  },
  {
   "cell_type": "markdown",
   "id": "9ca49203",
   "metadata": {},
   "source": [
    "## 원소의 정렬"
   ]
  },
  {
   "cell_type": "code",
   "execution_count": 40,
   "id": "941a6d02",
   "metadata": {},
   "outputs": [
    {
     "data": {
      "text/plain": [
       "array([ 5,  9, 10,  3,  1])"
      ]
     },
     "execution_count": 40,
     "metadata": {},
     "output_type": "execute_result"
    }
   ],
   "source": [
    "# 오름차순 정렬\n",
    "array = np.array([5,9,10,3,1])\n",
    "array"
   ]
  },
  {
   "cell_type": "code",
   "execution_count": 41,
   "id": "adabae77",
   "metadata": {},
   "outputs": [
    {
     "data": {
      "text/plain": [
       "array([ 1,  3,  5,  9, 10])"
      ]
     },
     "execution_count": 41,
     "metadata": {},
     "output_type": "execute_result"
    }
   ],
   "source": [
    "array.sort()\n",
    "array"
   ]
  },
  {
   "cell_type": "code",
   "execution_count": 42,
   "id": "4fc45e50",
   "metadata": {},
   "outputs": [
    {
     "data": {
      "text/plain": [
       "array([10,  9,  5,  3,  1])"
      ]
     },
     "execution_count": 42,
     "metadata": {},
     "output_type": "execute_result"
    }
   ],
   "source": [
    "# 내림차순\n",
    "array[::-1]"
   ]
  },
  {
   "cell_type": "code",
   "execution_count": 43,
   "id": "72bcfc94",
   "metadata": {},
   "outputs": [
    {
     "data": {
      "text/plain": [
       "array([[ 5,  9, 10,  3,  1],\n",
       "       [ 8,  3,  4,  2,  5]])"
      ]
     },
     "execution_count": 43,
     "metadata": {},
     "output_type": "execute_result"
    }
   ],
   "source": [
    "# 각 열을 기준으로 정렬\n",
    "array = np.array([[5,9,10,3,1], [8,3,4,2,5]])\n",
    "array"
   ]
  },
  {
   "cell_type": "code",
   "execution_count": 44,
   "id": "7d6bc338",
   "metadata": {},
   "outputs": [
    {
     "data": {
      "text/plain": [
       "array([[ 5,  3,  4,  2,  1],\n",
       "       [ 8,  9, 10,  3,  5]])"
      ]
     },
     "execution_count": 44,
     "metadata": {},
     "output_type": "execute_result"
    }
   ],
   "source": [
    "array.sort(axis=0)\n",
    "array"
   ]
  },
  {
   "cell_type": "code",
   "execution_count": 45,
   "id": "6bcbcc9e",
   "metadata": {},
   "outputs": [
    {
     "data": {
      "text/plain": [
       "array([ 0. ,  2.5,  5. ,  7.5, 10. ])"
      ]
     },
     "execution_count": 45,
     "metadata": {},
     "output_type": "execute_result"
    }
   ],
   "source": [
    "# 균일한 간격으로 데이터 생성\n",
    "array = np.linspace(0, 10, 5) # 0부터 10사이를 5개의 데이터로 채운다\n",
    "array"
   ]
  },
  {
   "cell_type": "code",
   "execution_count": 46,
   "id": "884a6470",
   "metadata": {
    "scrolled": true
   },
   "outputs": [
    {
     "data": {
      "text/plain": [
       "array([[4, 9, 6],\n",
       "       [3, 3, 7]])"
      ]
     },
     "execution_count": 46,
     "metadata": {},
     "output_type": "execute_result"
    }
   ],
   "source": [
    "# 난수의 재연 (실행마다 결과 동일)\n",
    "np.random.seed(7) # seed 설정해주면 동일\n",
    "np.random.randint(0, 10, (2,3))"
   ]
  },
  {
   "cell_type": "code",
   "execution_count": 47,
   "id": "4f5d2749",
   "metadata": {},
   "outputs": [
    {
     "data": {
      "text/plain": [
       "(array([0, 1, 2, 3, 4, 5, 6, 7, 8, 9]),\n",
       " array([99,  1,  2,  3,  4,  5,  6,  7,  8,  9]))"
      ]
     },
     "execution_count": 47,
     "metadata": {},
     "output_type": "execute_result"
    }
   ],
   "source": [
    "# 배열 객체 복사\n",
    "array1 = np.arange(0, 10)\n",
    "array2 = array1.copy()\n",
    "array2[0] = 99\n",
    "array1, array2"
   ]
  },
  {
   "cell_type": "code",
   "execution_count": 48,
   "id": "19416328",
   "metadata": {},
   "outputs": [
    {
     "data": {
      "text/plain": [
       "(array([1, 1, 2, 2, 3, 3, 4, 5]), array([1, 2, 3, 4, 5]))"
      ]
     },
     "execution_count": 48,
     "metadata": {},
     "output_type": "execute_result"
    }
   ],
   "source": [
    "# 중복된 원소 제거\n",
    "array = np.array([1,1,2,2,3,3,4,5])\n",
    "unique_array = np.unique(array)\n",
    "array, unique_array"
   ]
  },
  {
   "cell_type": "code",
   "execution_count": 49,
   "id": "e4cdd17e",
   "metadata": {},
   "outputs": [
    {
     "data": {
      "text/plain": [
       "array([[ 3,  4,  5,  7],\n",
       "       [ 1,  9, 11, 12],\n",
       "       [ 1,  2, 14, 15]])"
      ]
     },
     "execution_count": 49,
     "metadata": {},
     "output_type": "execute_result"
    }
   ],
   "source": [
    "a = np.array([[4,3,5,7],\n",
    "             [1,12,11,9],\n",
    "             [2,15,1,14]])\n",
    "np.sort(a, axis=1)"
   ]
  },
  {
   "cell_type": "code",
   "execution_count": 50,
   "id": "3d3458d6",
   "metadata": {},
   "outputs": [
    {
     "data": {
      "text/plain": [
       "array([[1, 0, 2, 3],\n",
       "       [0, 3, 2, 1],\n",
       "       [2, 0, 3, 1]], dtype=int64)"
      ]
     },
     "execution_count": 50,
     "metadata": {},
     "output_type": "execute_result"
    }
   ],
   "source": [
    "# argsort : 정렬된 순서만 알고 싶을때 사용\n",
    "a = np.array([[4,3,5,7],\n",
    "             [1,12,11,9],\n",
    "             [2,15,1,14]])\n",
    "np.argsort(a, axis=1)"
   ]
  }
 ],
 "metadata": {
  "kernelspec": {
   "display_name": "Python (myenv)",
   "language": "python",
   "name": "myenv"
  },
  "language_info": {
   "codemirror_mode": {
    "name": "ipython",
    "version": 3
   },
   "file_extension": ".py",
   "mimetype": "text/x-python",
   "name": "python",
   "nbconvert_exporter": "python",
   "pygments_lexer": "ipython3",
   "version": "3.8.8"
  },
  "toc": {
   "base_numbering": 1,
   "nav_menu": {},
   "number_sections": true,
   "sideBar": true,
   "skip_h1_title": false,
   "title_cell": "Table of Contents",
   "title_sidebar": "Contents",
   "toc_cell": false,
   "toc_position": {},
   "toc_section_display": true,
   "toc_window_display": true
  }
 },
 "nbformat": 4,
 "nbformat_minor": 5
}
